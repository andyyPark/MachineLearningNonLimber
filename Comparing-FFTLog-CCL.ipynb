{
 "cells": [
  {
   "cell_type": "markdown",
   "metadata": {},
   "source": [
    "## Essentials"
   ]
  },
  {
   "cell_type": "code",
   "execution_count": 1,
   "metadata": {},
   "outputs": [],
   "source": [
    "import numpy as np\n",
    "import matplotlib\n",
    "import matplotlib.pyplot as plt\n",
    "%matplotlib inline\n",
    "\n",
    "from scipy import integrate\n",
    "import pyccl as ccl\n",
    "\n",
    "from fftlog import *"
   ]
  },
  {
   "cell_type": "markdown",
   "metadata": {},
   "source": [
    "## Utility functions"
   ]
  },
  {
   "cell_type": "code",
   "execution_count": 2,
   "metadata": {},
   "outputs": [],
   "source": [
    "def a2z(a):\n",
    "    return 1. / a - 1\n",
    "\n",
    "def z2a(z):\n",
    "    return 1. / (z + 1)\n",
    "\n",
    "def nz(z, a=1.0, b=2.0, z0=1.0):\n",
    "    return 2 * z ** a * np.exp(-((z / z0) ** b))"
   ]
  },
  {
   "cell_type": "markdown",
   "metadata": {},
   "source": [
    "## FFTLog"
   ]
  },
  {
   "cell_type": "code",
   "execution_count": 3,
   "metadata": {},
   "outputs": [],
   "source": [
    "cosmo = ccl.Cosmology(Omega_c=0.25,\n",
    "                       Omega_b=0.05,\n",
    "                       h=0.67, n_s=0.96,\n",
    "                       sigma8=0.81)"
   ]
  },
  {
   "cell_type": "markdown",
   "metadata": {},
   "source": [
    "## CCL"
   ]
  },
  {
   "cell_type": "code",
   "execution_count": 58,
   "metadata": {},
   "outputs": [],
   "source": [
    "class LimberFFTLog(object):\n",
    "    \n",
    "    def __init__(self, cosmo, nz):\n",
    "        self.cosmo = cosmo\n",
    "        self.nz = nz\n",
    "        self.H0 = self.cosmo['h'] * 100.0\n",
    "        self.c = 299792.458 # km/s\n",
    "        self.z = np.linspace(0.002, 4, 1000)\n",
    "        self.chi = ccl.comoving_radial_distance(self.cosmo, z2a(self.z))\n",
    "        self.chi = np.logspace(np.log10(np.min(self.chi)), np.log10(np.max(self.chi)), 1000)\n",
    "        self.a = ccl.scale_factor_of_chi(self.cosmo, self.chi)\n",
    "        self.bias = 1.0\n",
    "        self.z = a2z(self.a)\n",
    "        \n",
    "    def Delta_Limber(self, k, ell):\n",
    "        chi = (ell + 0.5) / k\n",
    "        a = ccl.scale_factor_of_chi(self.cosmo, chi)\n",
    "        z = a2z(a)\n",
    "        delta_limber = ccl.h_over_h0(self.cosmo, a) * self.H0 / self.c * self.nz(z) * self.bias\n",
    "        return delta_limber\n",
    "    \n",
    "    def Hankel(self, ell):\n",
    "        kernel = ccl.h_over_h0(self.cosmo, self.a) * self.H0 / self.c * self.bias * self.nz(self.z)\n",
    "        f = self.chi * kernel * ccl.growth_factor(self.cosmo, self.a)\n",
    "        nu = 1.01\n",
    "        myfftlog = FFTLog(self.chi, f, nu=nu, N_extrap_low=0, \n",
    "                            N_extrap_high=0, c_window_width=0.25, N_pad=0)\n",
    "        k, F = myfftlog.fftlog(ell)\n",
    "        return k, F\n",
    "    \n",
    "    \n",
    "    def angular_cl(self, ells):\n",
    "        def non_linear_integrand(k, ell):\n",
    "            chi = (ell + 0.5) / k\n",
    "            a = ccl.scale_factor_of_chi(self.cosmo, chi)\n",
    "            return self.Delta_Limber(k, ell) ** 2 * ccl.nonlin_matter_power(self.cosmo, k, a)\n",
    "        \n",
    "        def non_linear(ell):\n",
    "            kmin = (ell + 0.5) / np.max(self.chi)\n",
    "            kmax = min(10.0, (ell + 0.5) / np.min(self.chi))\n",
    "            cl = 1.0 / (ell + 0.5) * integrate.quad(non_linear_integrand, kmin, kmax, args=(ell,))[0]\n",
    "            return cl\n",
    "        \n",
    "        def linear_integrand(ell):\n",
    "            k, F = self.Hankel(ell)\n",
    "            integrand = k ** 2 * ccl.linear_matter_power(self.cosmo, k, 1.0) * F ** 2\n",
    "            return k, integrand\n",
    "            \n",
    "    \n",
    "        def c_one(ell, use_limber=True):\n",
    "            k, integrand = linear_integrand(ell)\n",
    "            cl = 2.0 / np.pi * integrate.simps(integrand, k)\n",
    "            \n",
    "            if use_limber:\n",
    "                cl += non_linear(ell)\n",
    "            return cl\n",
    "        \n",
    "        result = np.array([c_one(ell) for ell in ells])\n",
    "        return result"
   ]
  },
  {
   "cell_type": "code",
   "execution_count": 59,
   "metadata": {},
   "outputs": [],
   "source": [
    "lfft = LimberFFTLog(cosmo, nz)"
   ]
  },
  {
   "cell_type": "code",
   "execution_count": 70,
   "metadata": {},
   "outputs": [
    {
     "data": {
      "image/png": "[encoded data removed]",
      "text/plain": [
       "<Figure size 432x288 with 1 Axes>"
      ]
     },
     "metadata": {
      "needs_background": "light"
     },
     "output_type": "display_data"
    }
   ],
   "source": [
    "ells = np.logspace(0.1, 1)\n",
    "z = np.linspace(0.002, 4, 1000)\n",
    "tracer = ccl.NumberCountsTracer(cosmo, has_rsd=False, dndz=(z, nz(z)), bias=(z, np.ones_like(z)))\n",
    "cl_ccl = ccl.angular_cl(cosmo, tracer, tracer, ells)\n",
    "\n",
    "plt.loglog(ells, lfft.angular_cl(ells), label='FFTLog')\n",
    "plt.loglog(ells, cl_ccl, '--', label='CCL')\n",
    "plt.xlabel('$\\ell$')\n",
    "plt.ylabel('$C\\ell$')\n",
    "plt.legend();"
   ]
  },
  {
   "cell_type": "code",
   "execution_count": 41,
   "metadata": {},
   "outputs": [
    {
     "ename": "CCLError",
     "evalue": "Error CCL_ERROR_INTEG: ccl_cls.c: ccl_angular_cls_limber(); integration error\n",
     "output_type": "error",
     "traceback": [
      "\u001b[0;31m---------------------------------------------------------------------------\u001b[0m",
      "\u001b[0;31mCCLError\u001b[0m                                  Traceback (most recent call last)",
      "\u001b[0;32m<ipython-input-41-ee201ff71d4a>\u001b[0m in \u001b[0;36m<module>\u001b[0;34m\u001b[0m\n\u001b[1;32m      2\u001b[0m \u001b[0mz\u001b[0m \u001b[0;34m=\u001b[0m \u001b[0mnp\u001b[0m\u001b[0;34m.\u001b[0m\u001b[0mlinspace\u001b[0m\u001b[0;34m(\u001b[0m\u001b[0;36m0.002\u001b[0m\u001b[0;34m,\u001b[0m \u001b[0;36m4\u001b[0m\u001b[0;34m,\u001b[0m \u001b[0;36m1000\u001b[0m\u001b[0;34m)\u001b[0m\u001b[0;34m\u001b[0m\u001b[0;34m\u001b[0m\u001b[0m\n\u001b[1;32m      3\u001b[0m \u001b[0mtracer\u001b[0m \u001b[0;34m=\u001b[0m \u001b[0mccl\u001b[0m\u001b[0;34m.\u001b[0m\u001b[0mNumberCountsTracer\u001b[0m\u001b[0;34m(\u001b[0m\u001b[0mcosmo\u001b[0m\u001b[0;34m,\u001b[0m \u001b[0mhas_rsd\u001b[0m\u001b[0;34m=\u001b[0m\u001b[0;32mFalse\u001b[0m\u001b[0;34m,\u001b[0m \u001b[0mdndz\u001b[0m\u001b[0;34m=\u001b[0m\u001b[0;34m(\u001b[0m\u001b[0mz\u001b[0m\u001b[0;34m,\u001b[0m \u001b[0mnz\u001b[0m\u001b[0;34m(\u001b[0m\u001b[0mz\u001b[0m\u001b[0;34m)\u001b[0m\u001b[0;34m)\u001b[0m\u001b[0;34m,\u001b[0m \u001b[0mbias\u001b[0m\u001b[0;34m=\u001b[0m\u001b[0;34m(\u001b[0m\u001b[0mz\u001b[0m\u001b[0;34m,\u001b[0m \u001b[0mnp\u001b[0m\u001b[0;34m.\u001b[0m\u001b[0mones_like\u001b[0m\u001b[0;34m(\u001b[0m\u001b[0mz\u001b[0m\u001b[0;34m)\u001b[0m\u001b[0;34m)\u001b[0m\u001b[0;34m)\u001b[0m\u001b[0;34m\u001b[0m\u001b[0;34m\u001b[0m\u001b[0m\n\u001b[0;32m----> 4\u001b[0;31m cl_ccl = ccl.angular_cl(cosmo, tracer, tracer, ells, p_of_k_a=ccl.Pk2D(pkfunc=lambda k, a: ccl.nonlin_matter_power(cosmo, k, a)+ccl.linear_matter_power(cosmo, k, a),\n\u001b[0m\u001b[1;32m      5\u001b[0m                                                                   cosmo=cosmo, a_arr=z2a(z)))\n\u001b[1;32m      6\u001b[0m \u001b[0;34m\u001b[0m\u001b[0m\n",
      "\u001b[0;32m~/.conda/envs/tomo-jax/lib/python3.8/site-packages/pyccl/cls.py\u001b[0m in \u001b[0;36mangular_cl\u001b[0;34m(cosmo, cltracer1, cltracer2, ell, p_of_k_a, l_limber, limber_integration_method)\u001b[0m\n\u001b[1;32m     96\u001b[0m     \u001b[0mlib\u001b[0m\u001b[0;34m.\u001b[0m\u001b[0mcl_tracer_collection_t_free\u001b[0m\u001b[0;34m(\u001b[0m\u001b[0mclt2\u001b[0m\u001b[0;34m)\u001b[0m\u001b[0;34m\u001b[0m\u001b[0;34m\u001b[0m\u001b[0m\n\u001b[1;32m     97\u001b[0m \u001b[0;34m\u001b[0m\u001b[0m\n\u001b[0;32m---> 98\u001b[0;31m     \u001b[0mcheck\u001b[0m\u001b[0;34m(\u001b[0m\u001b[0mstatus\u001b[0m\u001b[0;34m,\u001b[0m \u001b[0mcosmo\u001b[0m\u001b[0;34m=\u001b[0m\u001b[0mcosmo_in\u001b[0m\u001b[0;34m)\u001b[0m\u001b[0;34m\u001b[0m\u001b[0;34m\u001b[0m\u001b[0m\n\u001b[0m\u001b[1;32m     99\u001b[0m     \u001b[0;32mreturn\u001b[0m \u001b[0mcl\u001b[0m\u001b[0;34m\u001b[0m\u001b[0;34m\u001b[0m\u001b[0m\n",
      "\u001b[0;32m~/.conda/envs/tomo-jax/lib/python3.8/site-packages/pyccl/pyutils.py\u001b[0m in \u001b[0;36mcheck\u001b[0;34m(status, cosmo)\u001b[0m\n\u001b[1;32m     46\u001b[0m     \u001b[0;31m# Check for known error status\u001b[0m\u001b[0;34m\u001b[0m\u001b[0;34m\u001b[0m\u001b[0;34m\u001b[0m\u001b[0m\n\u001b[1;32m     47\u001b[0m     \u001b[0;32mif\u001b[0m \u001b[0mstatus\u001b[0m \u001b[0;32min\u001b[0m \u001b[0merror_types\u001b[0m\u001b[0;34m.\u001b[0m\u001b[0mkeys\u001b[0m\u001b[0;34m(\u001b[0m\u001b[0;34m)\u001b[0m\u001b[0;34m:\u001b[0m\u001b[0;34m\u001b[0m\u001b[0;34m\u001b[0m\u001b[0m\n\u001b[0;32m---> 48\u001b[0;31m         \u001b[0;32mraise\u001b[0m \u001b[0mCCLError\u001b[0m\u001b[0;34m(\u001b[0m\u001b[0;34m\"Error %s: %s\"\u001b[0m \u001b[0;34m%\u001b[0m \u001b[0;34m(\u001b[0m\u001b[0merror_types\u001b[0m\u001b[0;34m[\u001b[0m\u001b[0mstatus\u001b[0m\u001b[0;34m]\u001b[0m\u001b[0;34m,\u001b[0m \u001b[0mmsg\u001b[0m\u001b[0;34m)\u001b[0m\u001b[0;34m)\u001b[0m\u001b[0;34m\u001b[0m\u001b[0;34m\u001b[0m\u001b[0m\n\u001b[0m\u001b[1;32m     49\u001b[0m \u001b[0;34m\u001b[0m\u001b[0m\n\u001b[1;32m     50\u001b[0m     \u001b[0;31m# Check for unknown error\u001b[0m\u001b[0;34m\u001b[0m\u001b[0;34m\u001b[0m\u001b[0;34m\u001b[0m\u001b[0m\n",
      "\u001b[0;31mCCLError\u001b[0m: Error CCL_ERROR_INTEG: ccl_cls.c: ccl_angular_cls_limber(); integration error\n"
     ]
    }
   ],
   "source": [
    "ells = np.logspace(0.1, 1)\n",
    "z = np.linspace(0.002, 4, 1000)\n",
    "tracer = ccl.NumberCountsTracer(cosmo, has_rsd=False, dndz=(z, nz(z)), bias=(z, np.ones_like(z)))\n",
    "cl_ccl = ccl.angular_cl(cosmo, tracer, tracer, ells, p_of_k_a=ccl.Pk2D(pkfunc=lambda k, a: ccl.nonlin_matter_power(cosmo, k, a)+ccl.linear_matter_power(cosmo, k, a),\n",
    "                                                                  cosmo=cosmo, a_arr=z2a(z)))\n",
    "\n",
    "plt.loglog(ells, lfft.angular_cl(ells), label='FFTLog')\n",
    "plt.loglog(ells, cl_ccl, '--', label='CCL')\n",
    "plt.xlabel('$\\ell$')\n",
    "plt.ylabel('$C\\ell$')\n",
    "plt.legend();"
   ]
  },
  {
   "cell_type": "code",
   "execution_count": 39,
   "metadata": {},
   "outputs": [],
   "source": [
    "func = ccl.Pk2D(pkfunc=lambda k, a: ccl.nonlin_matter_power(cosmo, k, a) + ccl.linear_matter_power(cosmo, k, a), cosmo=cosmo)"
   ]
  },
  {
   "cell_type": "code",
   "execution_count": null,
   "metadata": {},
   "outputs": [],
   "source": []
  }
 ],
 "metadata": {
  "kernelspec": {
   "display_name": "tomo-jax",
   "language": "python",
   "name": "tomo-jax"
  },
  "language_info": {
   "codemirror_mode": {
    "name": "ipython",
    "version": 3
   },
   "file_extension": ".py",
   "mimetype": "text/x-python",
   "name": "python",
   "nbconvert_exporter": "python",
   "pygments_lexer": "ipython3",
   "version": "3.8.5"
  }
 },
 "nbformat": 4,
 "nbformat_minor": 4
}
